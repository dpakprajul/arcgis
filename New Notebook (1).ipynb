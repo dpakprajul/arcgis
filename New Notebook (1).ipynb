{
 "cells": [
  {
   "cell_type": "code",
   "execution_count": 193,
   "metadata": {},
   "outputs": [],
   "source": [
    "import arcpy, os\n",
    "\n",
    "#variables\n",
    "inputFC = arcpy.GetParameter(0)\n",
    "outputFC = arcpy.GetParameterAsText(1)\n",
    "bufDist = 0.000025\n",
    "\n",
    "# Housekeeping\n",
    "arcpy.env.overWriteOutput = True\n",
    "sR = arcpy.Describe(inputFC).spatialReference\n",
    "arcpy.env.outputCoordinateSystem = sR\n",
    "arcpy.env.workspace = os.path.dirname(outputFC)\n",
    "\n",
    "arcpy.AddMessage(\"Buffering with \" + str(bufDist) + \"m...\")\n",
    "\n",
    "#Create output feature class\n",
    "arcpy.Buffer_analysis(inputFC, outputFC, bufDist)\n",
    "\n",
    "arcpy.AddMessage(\"Done!\")\n",
    "\n",
    "# set output parameter\n",
    "arcpy.SetParameter(1, outputFC)"
   ]
  },
  {
   "cell_type": "code",
   "execution_count": null,
   "metadata": {},
   "outputs": [],
   "source": []
  }
 ],
 "metadata": {
  "kernelspec": {
   "display_name": "ArcGISPro",
   "language": "Python",
   "name": "python3"
  },
  "language_info": {
   "file_extension": ".py",
   "name": "python",
   "version": "3"
  }
 },
 "nbformat": 4,
 "nbformat_minor": 2
}
